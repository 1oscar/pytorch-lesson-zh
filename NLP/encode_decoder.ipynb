{
 "cells": [
  {
   "cell_type": "markdown",
   "metadata": {},
   "source": [
    "# 编码器—解码器（encoder-decoder）\n",
    "\n",
    "在基于词语的语言模型中，我们使用了循环神经网络。它的输入是一段不定长的序列，输出却是定长的，例如一个词语。然而，很多问题的输出也是不定长的序列。以机器翻译为例，输入是可以是英语的一段话，输出可以是法语的一段话，输入和输出皆不定长，例如\n",
    "\n",
    "    英语：They are watching.\n",
    "\n",
    "    法语：Ils regardent.\n",
    "\n",
    "\n",
    "\n",
    "当输入输出都是不定长序列时，我们可以使用编码器—解码器（encoder-decoder）或者seq2seq\n",
    "\n",
    "编码器（encoder）对应输入序列，解码器（decoder）对应输出序列。下面我们来介绍编码器—解码器的设计。\n",
    "\n",
    "![encoder-decoder](./images/encoder_decoder.png)\n",
    "\n",
    "编码器的作用是把一个不定长的输入序列转化成一个定长的 Context 向量 $(\\mathbf{c})$ 。该向量包含了输入序列的信息。\n",
    "\n",
    "解码器的作用是接收一个定长的 Context 向量 $(\\mathbf{c})$ 。然后解读该向量得到一个不定长的输出序列。\n",
    "\n",
    "\n",
    "常用的编码器、解码器是循环神经网络，但是需要注意的是：这时候的循环神经网络通常会是多层的。\n",
    "\n",
    "\n",
    "## 编码器（Encoder）\n",
    "\n",
    "为了演示Encoder，我们构建一个比较简单的编码器 Encoder，一个 Embedding 层和一个GRU层 （这里我们不使用已经训练好的词向量，而是直接使用 nn.Embedding，在实际项目中最好使用 Glove 或者 word2vec）\n",
    "\n",
    "![encoder-network](./images/encoder-network.png)\n",
    "\n",
    "\n",
    "\n",
    "\n",
    "\n",
    "## 解码器（Decoder）\n",
    "\n",
    "为了演示Decoder，我们构建一个比较简单的编码器 Decoder，也是一个 Embedding 层和一个GRU层\n",
    "\n",
    "![decoder-network](./images/decoder-network.png)\n",
    "\n",
    "\n",
    "ps: 上述图像来自 http://pytorch.org/tutorials/intermediate/seq2seq_translation_tutorial.html\n",
    "\n",
    "\n",
    "## 大纲\n",
    "\n",
    "为了实现一个 Neural Translation Machine 我们需要按照以下步骤行动：\n",
    "\n",
    "1、\n",
    "\n",
    "2、\n",
    "\n",
    "3、\n",
    "\n"
   ]
  },
  {
   "cell_type": "markdown",
   "metadata": {},
   "source": [
    "## 第一步：数据预处理"
   ]
  },
  {
   "cell_type": "code",
   "execution_count": null,
   "metadata": {
    "collapsed": true
   },
   "outputs": [],
   "source": []
  }
 ],
 "metadata": {
  "kernelspec": {
   "display_name": "Python 3",
   "language": "python",
   "name": "python3"
  },
  "language_info": {
   "codemirror_mode": {
    "name": "ipython",
    "version": 3
   },
   "file_extension": ".py",
   "mimetype": "text/x-python",
   "name": "python",
   "nbconvert_exporter": "python",
   "pygments_lexer": "ipython3",
   "version": "3.6.2"
  }
 },
 "nbformat": 4,
 "nbformat_minor": 2
}
