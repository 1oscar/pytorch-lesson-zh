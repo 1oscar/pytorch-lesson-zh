{
 "cells": [
  {
   "cell_type": "markdown",
   "metadata": {},
   "source": [
    "\n",
    "\n",
    "\n",
    "![DCGAN中的G结构图](../images/DCGAN/DCGAN_G.png)\n",
    "\n",
    "\n",
    "![DCGAN中的D结构图](../images/DCGAN/DCGAN_D.png)\n",
    "\n",
    "\n",
    "数据：https://pan.baidu.com/s/1eSifHcA  提取码：g5qa \n",
    "\n",
    "以上内容参考 https://zhuanlan.zhihu.com/p/24767059 "
   ]
  },
  {
   "cell_type": "code",
   "execution_count": 12,
   "metadata": {
    "collapsed": false
   },
   "outputs": [],
   "source": [
    "import torch\n",
    "import torch.nn as nn\n",
    "from torch.autograd import Variable\n",
    "from torchvision import transforms\n",
    "from torch.utils import data\n",
    "import os\n",
    "from PIL import Image\n",
    "from torch import optim"
   ]
  },
  {
   "cell_type": "code",
   "execution_count": 10,
   "metadata": {
    "collapsed": false
   },
   "outputs": [],
   "source": [
    "# 构建生成模型\n",
    "class Generator(nn.Module):\n",
    "    def __init__(self, noise_dim=100):\n",
    "        super(Generator, self).__init__()\n",
    "        self.fc1 = nn.Linear(noise_dim, 4 * 4 * 1024)\n",
    "        self.conv1 = nn.ConvTranspose2d(in_channels=1024, out_channels=512, kernel_size=5, stride=2, padding=2)\n",
    "        self.conv2 = nn.ConvTranspose2d(in_channels=512, out_channels=256, kernel_size=5, stride=2, padding=2)\n",
    "        self.conv3 = nn.ConvTranspose2d(in_channels=256, out_channels=128, kernel_size=5, stride=2, padding=2)\n",
    "        self.conv4 = nn.ConvTranspose2d(in_channels=128, out_channels=3, kernel_size=5, stride=2, padding=2)\n",
    "    def forward(self, x):\n",
    "        A1 = self.fc1(x)\n",
    "        A1 = A1.view(-1, 1024, 4, 4)\n",
    "        A2 = nn.ReLU(self.conv1(A1))\n",
    "        A3 = nn.ReLU(self.conv2(A2))\n",
    "        A4 = nn.ReLU(self.conv3(A3))\n",
    "        y_hat = nn.Tanh(self.conv4(A4))\n",
    "        return y_hat\n",
    "    "
   ]
  },
  {
   "cell_type": "code",
   "execution_count": 9,
   "metadata": {
    "collapsed": false
   },
   "outputs": [],
   "source": [
    "# 构建判别模型\n",
    "class Discriminator(nn.Module):\n",
    "    def __init__(self, input_chanel=3, result=1):\n",
    "        super(Discriminator, self).__init__()\n",
    "        self.conv1 = nn.Conv2d(input_chanel, 64, kernel_size=5, stride=2, padding=2)\n",
    "        self.conv2 = nn.Conv2d(64, 128, kernel_size=5, stride=2, padding=2)\n",
    "        self.bn2 = nn.BatchNorm2d(128)\n",
    "        self.conv3 = nn.Conv2d(128, 256, kernel_size=5, stride=2, padding=2)\n",
    "        self.bn3 = nn.BatchNorm2d(256)\n",
    "        self.conv4 = nn.Conv2d(256, 512, kernel_size=5, stride=2, padding=2)\n",
    "        self.bn4 = nn.BatchNorm2d(512)\n",
    "        self.fc = nn.Linear(4 * 4 * 512, result)\n",
    "    def forward(self, x):\n",
    "        A1 = nn.LeakyReLU(self.con1(x))\n",
    "        A2 = nn.LeakyReLU(self.bn2(self.conv2(A1)))\n",
    "        A3 = nn.LeakyReLU(self.bn3(self.conv3(A2)))\n",
    "        A4 = nn.LeakyReLU(self.bn4(self.conv4(A3)))\n",
    "        y_hat = self.fc(A4)\n",
    "        return y_hat\n",
    "    "
   ]
  },
  {
   "cell_type": "code",
   "execution_count": 16,
   "metadata": {
    "collapsed": false
   },
   "outputs": [],
   "source": [
    "# 数据集处理\n",
    "class ImageDataset(data.Dataset):\n",
    "    def __init__(self, path, transform=None):\n",
    "        \"\"\"\n",
    "            root 是存在图片的文件夹\n",
    "        \"\"\"\n",
    "        self.images = list(map(lambda x: os.path.join(path, x), os.listdir(path)))\n",
    "        self.transform = transform\n",
    "    def __getitem__(self, index):\n",
    "        image_file = self.images[index]\n",
    "        image = Image.open(image_file).convert('RGB')\n",
    "        if self.transform is not None:\n",
    "            image = self.transform(image)\n",
    "        return image\n",
    "    def __len__(self):\n",
    "        return len(self.images)\n",
    "\n",
    "\n",
    "def get_dataset(self, path, img_scale, batch_size):\n",
    "    transforms = transforms.Compose([\n",
    "            transforms.Scale(img_scale),\n",
    "            transforms.ToTensor,\n",
    "            transforms.Normalize((0.5, 0.5, 0.5), (0.5, 0.5, 0.5))\n",
    "        ])\n",
    "    \n",
    "    dataset = ImageDataset(path, transforms)\n",
    "    data_loader = data.DataLoader(dataset=dataset, \n",
    "                                 batch_size=batch_size,\n",
    "                                 shuffle=True,\n",
    "                                 drop_last=True)\n",
    "    return data_loader"
   ]
  },
  {
   "cell_type": "code",
   "execution_count": 15,
   "metadata": {
    "collapsed": true
   },
   "outputs": [],
   "source": [
    "# 工具函数:\n",
    "\n",
    "# 生成 噪音 z\n",
    "def gen_noisy(batch_size, noisy_dim):\n",
    "    return torch.randn(batch_size, noisy_dim)\n",
    "\n",
    "# tensor to variable\n",
    "def to_variable(x):\n",
    "    x = Variable(x)\n",
    "    if torch.cuda.is_available():\n",
    "        x = x.cuda()\n",
    "    return x"
   ]
  },
  {
   "cell_type": "code",
   "execution_count": 18,
   "metadata": {
    "collapsed": false
   },
   "outputs": [],
   "source": [
    "# 这里可以定义一个 Config 类，用来保存这些超参数\n",
    "class Config(object):\n",
    "    def __init__(self):\n",
    "        self.batch_size = 128\n",
    "        self.image_path = './images/'\n",
    "        self.noisy_dim = 100\n",
    "        self.G_lr = 1e-4\n",
    "        self.D_lr = 1e-6\n",
    "        self.EPOCH = 200\n",
    "        self.img_scale = 64\n",
    "        self.k_step = 2"
   ]
  },
  {
   "cell_type": "code",
   "execution_count": 13,
   "metadata": {
    "collapsed": true
   },
   "outputs": [],
   "source": [
    "# 训练阶段\n",
    "config = Config()\n",
    "\n",
    "train_data_loader = get_dataset(config.image_path, config.img_scale, config.batch_size)\n",
    "\n",
    "G = Generator()\n",
    "D = Discriminator()\n",
    "\n",
    "\n",
    "loss_fn = torch.nn.BCELoss()\n",
    "g_optimizer = optim.Adam(G.parameters, lr=config.G_lr)\n",
    "d_optimizer = optim.Adam(D.parameters, lr=config.D_lr)\n",
    "\n",
    "\n",
    "for epoch in range(config.EPOCH):\n",
    "    g_total_loss = torch.FloatTensor([0])\n",
    "    d_total_loss = torch.FloatTensor([0])\n",
    "    \n",
    "    for i, data in enumerate(train_data_loader):\n",
    "        \n",
    "        true_inputs, _ = data\n",
    "        images = to_variable(true_inputs)\n",
    "        batch_size = images.size(0)\n",
    "        \n",
    "        z = to_variable(gen_noisy(batch_size, config.noisy_dim))\n",
    "        \n",
    "        real_labels = to_var(torch.ones(batch_size))\n",
    "        fake_labels = to_var(torch.zeros(batch_size))\n",
    "        \n",
    "        ###          train D           ###\n",
    "        outputs = D(images)\n",
    "        d_loss_real = loss_fn(outputs, real_labels)\n",
    "        real_score = outputs\n",
    "        \n",
    "        fake_images = G(z)\n",
    "        outputs = D(fake_images)\n",
    "        d_loss_fake = loss_fn(outputs, fake_labels)\n",
    "        fake_score = outputs\n",
    "        \n",
    "        d_loss = d_loss_real + d_loss_fake\n",
    "        D.zero_grad()\n",
    "        d_loss.backward()\n",
    "        d_optimizer.step()\n",
    "        \n",
    "        ###          train G           ###\n",
    "        if i % config.k_step == 0:\n",
    "            z = to_variable(gen_noisy(batch_size, config.noisy_dim))\n",
    "            fake_images = G(z)\n",
    "            outputs = D(fake_images)\n",
    "            g_loss = loss_fn(outputs, real_labels)\n",
    "            G.zero_grad()\n",
    "            g_loss.backward()\n",
    "            g_optimizer.step()\n",
    "        \n",
    "        if (i + 1) % 300 == 0:\n",
    "            print('Epoch [%d/%d], Step[%d/%d], d_loss: %.4f, '\n",
    "                  'g_loss: %.4f, D(x): %.2f, D(G(z)): %.2f'\n",
    "                  % (epoch, 200, i + 1, 600, d_loss.data[0], g_loss.data[0],\n",
    "                     real_score.data.mean(), fake_score.data.mean()))\n",
    "    \n",
    "    # Save real images\n",
    "    fake_images = fake_images.view(fake_images.size(0), 1, 48, 48)\n",
    "    save_image((fake_images.data), './data/test_DCGAN/fake_images-%d.png' % (epoch + 1))\n",
    "        "
   ]
  }
 ],
 "metadata": {
  "anaconda-cloud": {},
  "kernelspec": {
   "display_name": "Python [conda root]",
   "language": "python",
   "name": "conda-root-py"
  },
  "language_info": {
   "codemirror_mode": {
    "name": "ipython",
    "version": 3
   },
   "file_extension": ".py",
   "mimetype": "text/x-python",
   "name": "python",
   "nbconvert_exporter": "python",
   "pygments_lexer": "ipython3",
   "version": "3.5.2"
  }
 },
 "nbformat": 4,
 "nbformat_minor": 1
}
