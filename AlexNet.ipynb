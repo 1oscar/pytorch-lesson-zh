{
 "cells": [
  {
   "cell_type": "markdown",
   "metadata": {},
   "source": [
    "# AlexNet\n",
    "\n",
    "AlexNet 的原始论文 https://papers.nips.cc/paper/4824-imagenet-classification-with-deep-convolutional-neural-networks.pdf\n",
    "\n",
    "\n",
    "AlexNet结构图:\n",
    "\n",
    "\n",
    "![AlexNet结构图](./images/AlexNet.jpg)\n",
    "\n",
    "\n",
    "\n",
    "AlexNet取得效果好还有几个原因：\n",
    "\n",
    "1、使用ReLU作为激活函数\n",
    "\n",
    "2、局部正则化\n",
    "\n",
    "3、Dropout\n",
    "\n",
    "4、Data Augmentation(数据增强)\n",
    "\n",
    "接下来照着这个图，用PyTorch写一遍模型。当然，就不跑了。\n",
    "\n",
    "*附上一张NG在 coursera 上授课的AlexNet模型图*\n",
    "\n",
    "\n",
    "![AlexNet结构图](./images/AlexNet2.jpg)\n",
    "\n"
   ]
  },
  {
   "cell_type": "code",
   "execution_count": 1,
   "metadata": {
    "collapsed": false
   },
   "outputs": [],
   "source": [
    "import torch\n",
    "import torch.nn as nn\n",
    "from torch.autograd import Variable\n",
    "import torch.nn.functional as F\n",
    "\n",
    "\n",
    "class AlextNet(nn.Module):\n",
    "    def __init__(self, in_channel, n_class):\n",
    "        super(AlextNet, self).__init__()\n",
    "        # 第一阶段\n",
    "        self.conv1 = nn.Sequential(\n",
    "            nn.Conv2d(in_channel, 96, kernel_size=11, stride=4),\n",
    "            nn.ReLU(inplace=True),\n",
    "            nn.MaxPool2d(kernel_size=3, stride=2)\n",
    "        )\n",
    "        # 第二阶段\n",
    "        self.conv2 = nn.Sequential(\n",
    "            nn.Conv2d(96, 256, kernel_size=5, padding=2),\n",
    "            nn.ReLU(inplace=True),\n",
    "            nn.MaxPool2d(kernel_size=3, stride=2)\n",
    "        )\n",
    "        # 第三阶段\n",
    "        self.conv3 = nn.Sequential(\n",
    "            nn.Conv2d(256, 384, kernel_size=3, padding=1),\n",
    "            nn.ReLU(inplace=True),\n",
    "            nn.Conv2d(384, 384, kernel_size=3, padding=1),\n",
    "            nn.ReLU(inplace=True),\n",
    "            nn.Conv2d(384, 256, kernel_size=3, padding=1),\n",
    "            nn.ReLU(inplace=True),\n",
    "            nn.MaxPool2d(kernel_size=3, stride=2)\n",
    "        )\n",
    "        # 第四阶段 全连接层\n",
    "        self.fc = nn.Sequential(\n",
    "            nn.Linear(6*6*256, 4096),\n",
    "            nn.ReLU(inplace=True),\n",
    "            nn.Dropout(0.5),\n",
    "            nn.Linear(4096, 4096),\n",
    "            nn.ReLU(inplace=True),\n",
    "            nn.Dropout(0.5),\n",
    "            nn.Linear(4096, n_class) # AlexNet上面是1000 ...如果测试的话用MNIST则可以使用10\n",
    "        )\n",
    "    # 向前传播\n",
    "    def forward(self, x):\n",
    "        con1_x = self.conv1(x)\n",
    "        con2_x = self.conv2(con1_x)\n",
    "        con3_x = self.conv3(con2_x)\n",
    "        lin_x = con3_x.view(con3_x.size(0), -1)\n",
    "        y_hat = self.fc(lin_x)\n",
    "        return y_hat"
   ]
  },
  {
   "cell_type": "code",
   "execution_count": 2,
   "metadata": {
    "collapsed": false
   },
   "outputs": [
    {
     "name": "stdout",
     "output_type": "stream",
     "text": [
      "AlextNet (\n",
      "  (conv1): Sequential (\n",
      "    (0): Conv2d(3, 96, kernel_size=(11, 11), stride=(4, 4))\n",
      "    (1): ReLU (inplace)\n",
      "    (2): MaxPool2d (size=(3, 3), stride=(2, 2), dilation=(1, 1))\n",
      "  )\n",
      "  (conv2): Sequential (\n",
      "    (0): Conv2d(96, 256, kernel_size=(5, 5), stride=(1, 1), padding=(2, 2))\n",
      "    (1): ReLU (inplace)\n",
      "    (2): MaxPool2d (size=(3, 3), stride=(2, 2), dilation=(1, 1))\n",
      "  )\n",
      "  (conv3): Sequential (\n",
      "    (0): Conv2d(256, 384, kernel_size=(3, 3), stride=(1, 1), padding=(1, 1))\n",
      "    (1): ReLU (inplace)\n",
      "    (2): Conv2d(384, 384, kernel_size=(3, 3), stride=(1, 1), padding=(1, 1))\n",
      "    (3): ReLU (inplace)\n",
      "    (4): Conv2d(384, 256, kernel_size=(3, 3), stride=(1, 1), padding=(1, 1))\n",
      "    (5): ReLU (inplace)\n",
      "    (6): MaxPool2d (size=(3, 3), stride=(2, 2), dilation=(1, 1))\n",
      "  )\n",
      "  (fc): Sequential (\n",
      "    (0): Linear (9216 -> 4096)\n",
      "    (1): ReLU (inplace)\n",
      "    (2): Dropout (p = 0.5)\n",
      "    (3): Linear (4096 -> 4096)\n",
      "    (4): ReLU (inplace)\n",
      "    (5): Dropout (p = 0.5)\n",
      "    (6): Linear (4096 -> 10)\n",
      "  )\n",
      ")\n"
     ]
    }
   ],
   "source": [
    "alex = AlextNet(3, 10)\n",
    "print(alex)"
   ]
  }
 ],
 "metadata": {
  "anaconda-cloud": {},
  "kernelspec": {
   "display_name": "Python [conda root]",
   "language": "python",
   "name": "conda-root-py"
  },
  "language_info": {
   "codemirror_mode": {
    "name": "ipython",
    "version": 3
   },
   "file_extension": ".py",
   "mimetype": "text/x-python",
   "name": "python",
   "nbconvert_exporter": "python",
   "pygments_lexer": "ipython3",
   "version": "3.5.2"
  }
 },
 "nbformat": 4,
 "nbformat_minor": 1
}
