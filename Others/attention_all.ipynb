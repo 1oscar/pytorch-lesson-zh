{
 "cells": [
  {
   "cell_type": "markdown",
   "metadata": {},
   "source": [
    "# self-attention\n",
    "\n",
    "这里仅仅尝试复现论文中的模型，从最简单的 attention开始，到之后的 multi-head attention, 再到 block, 再到整个模型。"
   ]
  },
  {
   "cell_type": "markdown",
   "metadata": {},
   "source": [
    "## 1. scaled-dot-product-attention\n",
    "\n",
    "![scaled-dot-product-attention](./img/scaled-dot-product-attention.png)\n",
    "\n",
    "$$Attention(\\boldsymbol{Q},\\boldsymbol{K},\\boldsymbol{V}) = softmax\\left(\\frac{\\boldsymbol{Q}\\boldsymbol{K}^{\\top}}{\\sqrt{d_k}}\\right)\\boldsymbol{V}$$"
   ]
  },
  {
   "cell_type": "code",
   "execution_count": 1,
   "metadata": {},
   "outputs": [],
   "source": []
  },
  {
   "cell_type": "code",
   "execution_count": 2,
   "metadata": {},
   "outputs": [],
   "source": [
    "import torch\n",
    "import torch.nn as nn\n",
    "import torch.nn.functional as F\n",
    "from torch.autograd import *\n",
    "import numpy as np\n",
    "from torch.nn.parameter import Parameter\n",
    "\n",
    "# No Mask\n",
    "class ScaledDotProductAttention(nn.Module):\n",
    "\n",
    "    def __init__(self, dk):\n",
    "        '''scaled-dot-product-attention\n",
    "            parameters: dk (dk)\n",
    "        '''\n",
    "        super(ScaledDotProductAttention, self).__init__()\n",
    "        self.dk = dk\n",
    "\n",
    "    def forward(self, Q, K, V):\n",
    "        ''' forward step\n",
    "            parameters: Q (n*dk), K(m*dk), V(n*dv)\n",
    "        '''\n",
    "        qk = torch.mm(Q, torch.t(K)) # (n*dk) x (dk*m) -> n*m\n",
    "        vec = qk / torch.sqrt(self.dk) # n*m -> n*m\n",
    "        weight = F.softmax(vec, dim=1) # n*m -> n*1\n",
    "        attention_V = torch.matmul(weight, V) # (n*1) x (n*dv) -> n*dv"
   ]
  },
  {
   "cell_type": "code",
   "execution_count": null,
   "metadata": {},
   "outputs": [],
   "source": [
    "# test data\n",
    "Q1 = torch.randn()\n",
    "V1 = \n",
    "k1 = "
   ]
  }
 ],
 "metadata": {
  "kernelspec": {
   "display_name": "Python 3",
   "language": "python",
   "name": "python3"
  },
  "language_info": {
   "codemirror_mode": {
    "name": "ipython",
    "version": 3
   },
   "file_extension": ".py",
   "mimetype": "text/x-python",
   "name": "python",
   "nbconvert_exporter": "python",
   "pygments_lexer": "ipython3",
   "version": "3.5.2"
  }
 },
 "nbformat": 4,
 "nbformat_minor": 2
}
