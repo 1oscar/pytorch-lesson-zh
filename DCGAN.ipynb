{
 "cells": [
  {
   "cell_type": "markdown",
   "metadata": {},
   "source": [
    "\n",
    "\n",
    "\n",
    "![DCGAN中的G结构图](./images/DCGAN/DCGAN_G.png)\n",
    "\n",
    "\n",
    "![DCGAN中的D结构图](./images/DCGAN/DCGAN_D.png)\n",
    "\n",
    "\n",
    "数据：https://pan.baidu.com/s/1eSifHcA  提取码：g5qa \n",
    "\n",
    "以上内容参考 https://zhuanlan.zhihu.com/p/24767059 "
   ]
  },
  {
   "cell_type": "code",
   "execution_count": 1,
   "metadata": {
    "collapsed": true
   },
   "outputs": [],
   "source": [
    "import torch\n",
    "import torch.nn as nn\n",
    "from torch.autogradograd import Variable"
   ]
  },
  {
   "cell_type": "code",
   "execution_count": null,
   "metadata": {
    "collapsed": true
   },
   "outputs": [],
   "source": [
    "class Generator(nn.modules):\n",
    "    def __init__(self, noise_dim=100):\n",
    "        super(Generator, self).__init__()\n",
    "        self.fc1 = nn.Linear(noise_dim, 4 * 4 * 1024)\n",
    "        self.conv1 = nn.ConvTranspose2d(in_channels=1024, out_channels=512, kernel_size=5, stride=2, padding=2)\n",
    "        self.conv2 = nn.ConvTranspose2d(in_channels=512, out_channels=256, kernel_size=5, stride=2, padding=2)\n",
    "        self.conv3 = nn.ConvTranspose2d(in_channels=256, out_channels=128, kernel_size=5, stride=2, padding=2)\n",
    "        self.conv4 = nn.ConvTranspose2d(in_channels=128, out_channels=3, kernel_size=5, stride=2, padding=2)\n",
    "    def forward(self, x):\n",
    "        A1 = self.fc1(x)\n",
    "        A1 = A1.view(-1, 1024, 4, 4)\n",
    "        A2 = nn.ReLU(self.conv1(A1))\n",
    "        A3 = nn.ReLU(self.conv2(A2))\n",
    "        A4 = nn.ReLU(self.conv3(A3))\n",
    "        y_hat = nn.Tanh(self.conv4(A4))\n",
    "        return y_hat"
   ]
  },
  {
   "cell_type": "code",
   "execution_count": 7,
   "metadata": {
    "collapsed": false
   },
   "outputs": [],
   "source": [
    "class Discriminator(nn.Module):\n",
    "    def __init__(self, input_chanel=3, result=1):\n",
    "        super(Discriminator, self).__init__()\n",
    "        self.conv1 = nn.Conv2d(input_chanel, 64, kernel_size=5, stride=2, padding=2)\n",
    "        self.conv2 = nn.Conv2d(64, 128, kernel_size=5, stride=2, padding=2)\n",
    "        self.bn2 = nn.BatchNorm2d(128)\n",
    "        self.conv3 = nn.Conv2d(128, 256, kernel_size=5, stride=2, padding=2)\n",
    "        self.bn3 = nn.BatchNorm2d(256)\n",
    "        self.conv4 = nn.Conv2d(256, 512, kernel_size=5, stride=2, padding=2)\n",
    "        self.bn4 = nn.BatchNorm2d(512)\n",
    "        self.fc = nn.Linear(4 * 4 * 512, result)\n",
    "    def forward(self, x):\n",
    "        A1 = nn.LeakyReLU(self.con1(x))\n",
    "        A2 = nn.LeakyReLU(self.bn2(self.conv2(A1)))\n",
    "        A3 = nn.LeakyReLU(self.bn3(self.conv3(A2)))\n",
    "        A4 = nn.LeakyReLU(self.bn4(self.conv4(A3)))\n",
    "        y_hat = self.fc(A4)\n",
    "        return y_hat"
   ]
  },
  {
   "cell_type": "code",
   "execution_count": null,
   "metadata": {
    "collapsed": false
   },
   "outputs": [],
   "source": []
  },
  {
   "cell_type": "code",
   "execution_count": null,
   "metadata": {
    "collapsed": true
   },
   "outputs": [],
   "source": []
  }
 ],
 "metadata": {
  "anaconda-cloud": {},
  "kernelspec": {
   "display_name": "Python [conda root]",
   "language": "python",
   "name": "conda-root-py"
  },
  "language_info": {
   "codemirror_mode": {
    "name": "ipython",
    "version": 3
   },
   "file_extension": ".py",
   "mimetype": "text/x-python",
   "name": "python",
   "nbconvert_exporter": "python",
   "pygments_lexer": "ipython3",
   "version": "3.5.2"
  }
 },
 "nbformat": 4,
 "nbformat_minor": 1
}
