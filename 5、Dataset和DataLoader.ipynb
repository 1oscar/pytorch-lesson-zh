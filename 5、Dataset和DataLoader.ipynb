{
 "cells": [
  {
   "cell_type": "markdown",
   "metadata": {},
   "source": [
    "# DataLoader 和 Dataset\n",
    "\n",
    "构建模型的基本方法，我们了解了。接下来，我们就要弄明白怎么对数据进行预处理，然后加载数据，我们以前手动加载数据的方式，在数据量小的时候，并没有太大问题，但是到了大数据量，我们需要使用 shuffle, 分割成mini-batch 等操作的时候，我们可以使用PyTorch的API快速地完成这些操作。"
   ]
  },
  {
   "cell_type": "code",
   "execution_count": 7,
   "metadata": {
    "collapsed": true
   },
   "outputs": [],
   "source": [
    "import torch\n",
    "from torch.utils.data import Dataset, DataLoader, TensorDataset\n",
    "from torch.autograd import Variable\n",
    "import numpy as np"
   ]
  },
  {
   "cell_type": "code",
   "execution_count": 8,
   "metadata": {
    "collapsed": true
   },
   "outputs": [],
   "source": [
    "xy = np.loadtxt('./dataSet/diabetes.csv.gz', delimiter=',', dtype=np.float32) # 使用numpy读取数据\n",
    "x_data = torch.from_numpy(xy[:, 0:-1])\n",
    "y_data = torch.from_numpy(xy[:, [-1]])"
   ]
  },
  {
   "cell_type": "code",
   "execution_count": 9,
   "metadata": {
    "collapsed": false
   },
   "outputs": [
    {
     "name": "stdout",
     "output_type": "stream",
     "text": [
      "torch.Size([759, 8]) torch.Size([759, 1])\n"
     ]
    }
   ],
   "source": [
    "print(x_data.shape, y_data.shape)"
   ]
  },
  {
   "cell_type": "markdown",
   "metadata": {},
   "source": [
    "Dataset是一个包装类，用来将数据包装为Dataset类，然后传入DataLoader中，我们再使用DataLoader这个类来更加快捷的对数据进行操作。\n",
    "\n",
    "DataLoader是一个比较重要的类，它为我们提供的常用操作有：batch_size(每个batch的大小), shuffle(是否进行shuffle操作), num_workers(加载数据的时候使用几个子进程), pin_memory(将数据放在CUDA上)\n",
    "\n",
    "现在，我们先展示直接使用 TensorDataset 来将数据包装成Dataset类"
   ]
  },
  {
   "cell_type": "code",
   "execution_count": 10,
   "metadata": {
    "collapsed": true
   },
   "outputs": [],
   "source": [
    "deal_dataset = TensorDataset(data_tensor=x_data, target_tensor=y_data)"
   ]
  },
  {
   "cell_type": "code",
   "execution_count": 11,
   "metadata": {
    "collapsed": false
   },
   "outputs": [],
   "source": [
    "train_loader = DataLoader(dataset=deal_dataset,\n",
    "                          batch_size=32,\n",
    "                          shuffle=True,\n",
    "                          num_workers=2)"
   ]
  },
  {
   "cell_type": "code",
   "execution_count": 12,
   "metadata": {
    "collapsed": false
   },
   "outputs": [
    {
     "name": "stdout",
     "output_type": "stream",
     "text": [
      "0 0 inputs torch.Size([32, 8]) labels torch.Size([32, 1])\n",
      "0 1 inputs torch.Size([32, 8]) labels torch.Size([32, 1])\n",
      "0 2 inputs torch.Size([32, 8]) labels torch.Size([32, 1])\n",
      "0 3 inputs torch.Size([32, 8]) labels torch.Size([32, 1])\n",
      "0 4 inputs torch.Size([32, 8]) labels torch.Size([32, 1])\n",
      "0 5 inputs torch.Size([32, 8]) labels torch.Size([32, 1])\n",
      "0 6 inputs torch.Size([32, 8]) labels torch.Size([32, 1])\n",
      "0 7 inputs torch.Size([32, 8]) labels torch.Size([32, 1])\n",
      "0 8 inputs torch.Size([32, 8]) labels torch.Size([32, 1])\n",
      "0 9 inputs torch.Size([32, 8]) labels torch.Size([32, 1])\n",
      "0 10 inputs torch.Size([32, 8]) labels torch.Size([32, 1])\n",
      "0 11 inputs torch.Size([32, 8]) labels torch.Size([32, 1])\n",
      "0 12 inputs torch.Size([32, 8]) labels torch.Size([32, 1])\n",
      "0 13 inputs torch.Size([32, 8]) labels torch.Size([32, 1])\n",
      "0 14 inputs torch.Size([32, 8]) labels torch.Size([32, 1])\n",
      "0 15 inputs torch.Size([32, 8]) labels torch.Size([32, 1])\n",
      "0 16 inputs torch.Size([32, 8]) labels torch.Size([32, 1])\n",
      "0 17 inputs torch.Size([32, 8]) labels torch.Size([32, 1])\n",
      "0 18 inputs torch.Size([32, 8]) labels torch.Size([32, 1])\n",
      "0 19 inputs torch.Size([32, 8]) labels torch.Size([32, 1])\n",
      "0 20 inputs torch.Size([32, 8]) labels torch.Size([32, 1])\n",
      "0 21 inputs torch.Size([32, 8]) labels torch.Size([32, 1])\n",
      "0 22 inputs torch.Size([32, 8]) labels torch.Size([32, 1])\n",
      "0 23 inputs torch.Size([23, 8]) labels torch.Size([23, 1])\n",
      "1 0 inputs torch.Size([32, 8]) labels torch.Size([32, 1])\n",
      "1 1 inputs torch.Size([32, 8]) labels torch.Size([32, 1])\n",
      "1 2 inputs torch.Size([32, 8]) labels torch.Size([32, 1])\n",
      "1 3 inputs torch.Size([32, 8]) labels torch.Size([32, 1])\n",
      "1 4 inputs torch.Size([32, 8]) labels torch.Size([32, 1])\n",
      "1 5 inputs torch.Size([32, 8]) labels torch.Size([32, 1])\n",
      "1 6 inputs torch.Size([32, 8]) labels torch.Size([32, 1])\n",
      "1 7 inputs torch.Size([32, 8]) labels torch.Size([32, 1])\n",
      "1 8 inputs torch.Size([32, 8]) labels torch.Size([32, 1])\n",
      "1 9 inputs torch.Size([32, 8]) labels torch.Size([32, 1])\n",
      "1 10 inputs torch.Size([32, 8]) labels torch.Size([32, 1])\n",
      "1 11 inputs torch.Size([32, 8]) labels torch.Size([32, 1])\n",
      "1 12 inputs torch.Size([32, 8]) labels torch.Size([32, 1])\n",
      "1 13 inputs torch.Size([32, 8]) labels torch.Size([32, 1])\n",
      "1 14 inputs torch.Size([32, 8]) labels torch.Size([32, 1])\n",
      "1 15 inputs torch.Size([32, 8]) labels torch.Size([32, 1])\n",
      "1 16 inputs torch.Size([32, 8]) labels torch.Size([32, 1])\n",
      "1 17 inputs torch.Size([32, 8]) labels torch.Size([32, 1])\n",
      "1 18 inputs torch.Size([32, 8]) labels torch.Size([32, 1])\n",
      "1 19 inputs torch.Size([32, 8]) labels torch.Size([32, 1])\n",
      "1 20 inputs torch.Size([32, 8]) labels torch.Size([32, 1])\n",
      "1 21 inputs torch.Size([32, 8]) labels torch.Size([32, 1])\n",
      "1 22 inputs torch.Size([32, 8]) labels torch.Size([32, 1])\n",
      "1 23 inputs torch.Size([23, 8]) labels torch.Size([23, 1])\n"
     ]
    }
   ],
   "source": [
    "for epoch in range(2):\n",
    "    for i, data in enumerate(train_loader):\n",
    "        # 将数据从 train_loader 中读出来,一次读取的样本数是32个\n",
    "        inputs, labels = data\n",
    "\n",
    "        # 将这些数据转换成Variable类型\n",
    "        inputs, labels = Variable(inputs), Variable(labels)\n",
    "\n",
    "        # 接下来就是跑模型的环节了，我们这里使用print来代替\n",
    "        print(epoch, i, \"inputs\", inputs.data.size(), \"labels\", labels.data.size())"
   ]
  },
  {
   "cell_type": "markdown",
   "metadata": {},
   "source": [
    "接下来，我们来继承 Dataset类 ，写一个处理将数据处理成DataLoader的类。\n",
    "\n",
    "对于一个 Dataset类 我们需要重写 \\_\\_len\\_\\_ 方法，该方法提供了dataset的大小；  \\_\\_getitem\\_\\_ 方法， 该方法支持从 0 到 len(self)的索引"
   ]
  },
  {
   "cell_type": "code",
   "execution_count": 5,
   "metadata": {
    "collapsed": false
   },
   "outputs": [
    {
     "name": "stdout",
     "output_type": "stream",
     "text": [
      "epoch： 0 的第 0 个inputs torch.Size([32, 8]) labels torch.Size([32, 1])\n",
      "epoch： 0 的第 1 个inputs torch.Size([32, 8]) labels torch.Size([32, 1])\n",
      "epoch： 0 的第 2 个inputs torch.Size([32, 8]) labels torch.Size([32, 1])\n",
      "epoch： 0 的第 3 个inputs torch.Size([32, 8]) labels torch.Size([32, 1])\n",
      "epoch： 0 的第 4 个inputs torch.Size([32, 8]) labels torch.Size([32, 1])\n",
      "epoch： 0 的第 5 个inputs torch.Size([32, 8]) labels torch.Size([32, 1])\n",
      "epoch： 0 的第 6 个inputs torch.Size([32, 8]) labels torch.Size([32, 1])\n",
      "epoch： 0 的第 7 个inputs torch.Size([32, 8]) labels torch.Size([32, 1])\n",
      "epoch： 0 的第 8 个inputs torch.Size([32, 8]) labels torch.Size([32, 1])\n",
      "epoch： 0 的第 9 个inputs torch.Size([32, 8]) labels torch.Size([32, 1])\n",
      "epoch： 0 的第 10 个inputs torch.Size([32, 8]) labels torch.Size([32, 1])\n",
      "epoch： 0 的第 11 个inputs torch.Size([32, 8]) labels torch.Size([32, 1])\n",
      "epoch： 0 的第 12 个inputs torch.Size([32, 8]) labels torch.Size([32, 1])\n",
      "epoch： 0 的第 13 个inputs torch.Size([32, 8]) labels torch.Size([32, 1])\n",
      "epoch： 0 的第 14 个inputs torch.Size([32, 8]) labels torch.Size([32, 1])\n",
      "epoch： 0 的第 15 个inputs torch.Size([32, 8]) labels torch.Size([32, 1])\n",
      "epoch： 0 的第 16 个inputs torch.Size([32, 8]) labels torch.Size([32, 1])\n",
      "epoch： 0 的第 17 个inputs torch.Size([32, 8]) labels torch.Size([32, 1])\n",
      "epoch： 0 的第 18 个inputs torch.Size([32, 8]) labels torch.Size([32, 1])\n",
      "epoch： 0 的第 19 个inputs torch.Size([32, 8]) labels torch.Size([32, 1])\n",
      "epoch： 0 的第 20 个inputs torch.Size([32, 8]) labels torch.Size([32, 1])\n",
      "epoch： 0 的第 21 个inputs torch.Size([32, 8]) labels torch.Size([32, 1])\n",
      "epoch： 0 的第 22 个inputs torch.Size([32, 8]) labels torch.Size([32, 1])\n",
      "epoch： 0 的第 23 个inputs torch.Size([23, 8]) labels torch.Size([23, 1])\n",
      "epoch： 1 的第 0 个inputs torch.Size([32, 8]) labels torch.Size([32, 1])\n",
      "epoch： 1 的第 1 个inputs torch.Size([32, 8]) labels torch.Size([32, 1])\n",
      "epoch： 1 的第 2 个inputs torch.Size([32, 8]) labels torch.Size([32, 1])\n",
      "epoch： 1 的第 3 个inputs torch.Size([32, 8]) labels torch.Size([32, 1])\n",
      "epoch： 1 的第 4 个inputs torch.Size([32, 8]) labels torch.Size([32, 1])\n",
      "epoch： 1 的第 5 个inputs torch.Size([32, 8]) labels torch.Size([32, 1])\n",
      "epoch： 1 的第 6 个inputs torch.Size([32, 8]) labels torch.Size([32, 1])\n",
      "epoch： 1 的第 7 个inputs torch.Size([32, 8]) labels torch.Size([32, 1])\n",
      "epoch： 1 的第 8 个inputs torch.Size([32, 8]) labels torch.Size([32, 1])\n",
      "epoch： 1 的第 9 个inputs torch.Size([32, 8]) labels torch.Size([32, 1])\n",
      "epoch： 1 的第 10 个inputs torch.Size([32, 8]) labels torch.Size([32, 1])\n",
      "epoch： 1 的第 11 个inputs torch.Size([32, 8]) labels torch.Size([32, 1])\n",
      "epoch： 1 的第 12 个inputs torch.Size([32, 8]) labels torch.Size([32, 1])\n",
      "epoch： 1 的第 13 个inputs torch.Size([32, 8]) labels torch.Size([32, 1])\n",
      "epoch： 1 的第 14 个inputs torch.Size([32, 8]) labels torch.Size([32, 1])\n",
      "epoch： 1 的第 15 个inputs torch.Size([32, 8]) labels torch.Size([32, 1])\n",
      "epoch： 1 的第 16 个inputs torch.Size([32, 8]) labels torch.Size([32, 1])\n",
      "epoch： 1 的第 17 个inputs torch.Size([32, 8]) labels torch.Size([32, 1])\n",
      "epoch： 1 的第 18 个inputs torch.Size([32, 8]) labels torch.Size([32, 1])\n",
      "epoch： 1 的第 19 个inputs torch.Size([32, 8]) labels torch.Size([32, 1])\n",
      "epoch： 1 的第 20 个inputs torch.Size([32, 8]) labels torch.Size([32, 1])\n",
      "epoch： 1 的第 21 个inputs torch.Size([32, 8]) labels torch.Size([32, 1])\n",
      "epoch： 1 的第 22 个inputs torch.Size([32, 8]) labels torch.Size([32, 1])\n",
      "epoch： 1 的第 23 个inputs torch.Size([23, 8]) labels torch.Size([23, 1])\n"
     ]
    }
   ],
   "source": [
    "class DealDataset(Dataset):\n",
    "    \"\"\"\n",
    "        下载数据、初始化数据，都可以在这里完成\n",
    "    \"\"\"\n",
    "    def __init__(self):\n",
    "        xy = np.loadtxt('./dataSet/diabetes.csv.gz', delimiter=',', dtype=np.float32) # 使用numpy读取数据\n",
    "        self.x_data = torch.from_numpy(xy[:, 0:-1])\n",
    "        self.y_data = torch.from_numpy(xy[:, [-1]])\n",
    "        self.len = xy.shape[0]\n",
    "    \n",
    "    def __getitem__(self, index):\n",
    "        return self.x_data[index], self.y_data[index]\n",
    "\n",
    "    def __len__(self):\n",
    "        return self.len\n",
    "\n",
    "# 实例化这个类，然后我们就得到了Dataset类型的数据，记下来就将这个类传给DataLoader，就可以了。    \n",
    "dealDataset = DealDataset()\n",
    "\n",
    "train_loader2 = DataLoader(dataset=dealDataset,\n",
    "                          batch_size=32,\n",
    "                          shuffle=True)\n",
    "\n",
    "\n",
    "for epoch in range(2):\n",
    "    for i, data in enumerate(train_loader2):\n",
    "        # 将数据从 train_loader 中读出来,一次读取的样本数是32个\n",
    "        inputs, labels = data\n",
    "\n",
    "        # 将这些数据转换成Variable类型\n",
    "        inputs, labels = Variable(inputs), Variable(labels)\n",
    "\n",
    "        # 接下来就是跑模型的环节了，我们这里使用print来代替\n",
    "        print(\"epoch：\", epoch, \"的第\" , i, \"个inputs\", inputs.data.size(), \"labels\", labels.data.size())"
   ]
  },
  {
   "cell_type": "markdown",
   "metadata": {
    "collapsed": true
   },
   "source": [
    "# torchvision 包的介绍\n",
    "\n"
   ]
  },
  {
   "cell_type": "code",
   "execution_count": null,
   "metadata": {
    "collapsed": true
   },
   "outputs": [],
   "source": []
  }
 ],
 "metadata": {
  "anaconda-cloud": {},
  "kernelspec": {
   "display_name": "Python [default]",
   "language": "python",
   "name": "python3"
  },
  "language_info": {
   "codemirror_mode": {
    "name": "ipython",
    "version": 3
   },
   "file_extension": ".py",
   "mimetype": "text/x-python",
   "name": "python",
   "nbconvert_exporter": "python",
   "pygments_lexer": "ipython3",
   "version": "3.5.2"
  }
 },
 "nbformat": 4,
 "nbformat_minor": 1
}
