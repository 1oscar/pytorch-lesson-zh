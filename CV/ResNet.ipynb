{
 "cells": [
  {
   "cell_type": "markdown",
   "metadata": {},
   "source": [
    "# ResNets\n",
    "\n",
    "## 什么是深度残差网络？\n",
    "\n",
    "原始论文 https://arxiv.org/pdf/1512.03385.pdf \n",
    "\n",
    "\n",
    "\n",
    "当我们使用深层网络的时候，它们能够模拟很深层次的复杂函数，同时也可以从不同的抽象层次上提取特征。这一点会比浅层网络强很多。\n",
    "\n",
    "但是天下没有免费的午餐，深层网络有优点自然也有缺点，那就是——梯度消失(在做反向传播的时候，因为每一步都要乘以一个权重矩阵，这样就容易导致传播到第一层的时候，梯度接近于0)\n",
    "\n",
    "但是在Resnet中 \"shortcut\" 的存在允许梯度直接反向传播到前一层，这样就可以帮我们缓解梯度消失的现象。\n",
    "\n",
    "![ResNetsBlock](./images/shortcut.png)\n",
    "\n",
    "\n",
    "\n",
    "ResNet是由很多小的block组成,每个block的组成如下图所示：\n",
    "\n",
    "![ResNetsBlock](./images/block.png)\n",
    "\n",
    "\n",
    "\n",
    "ResNet34的结构图如下所示：\n",
    "\n",
    "![ResNets](./images/resNets.jpg)\n",
    "\n",
    "\n",
    "\n",
    "所以，我们只需要在实现block上，做一些小技巧，就可以了。\n",
    "\n",
    "\n",
    "上文中的图，[参考 DeepLearning.ai 的课程4](https://www.coursera.org/learn/convolutional-neural-networks/home/welcome)"
   ]
  },
  {
   "cell_type": "code",
   "execution_count": null,
   "metadata": {
    "collapsed": true
   },
   "outputs": [],
   "source": [
    "import torch\n",
    "import torch.nn as nn\n",
    "import "
   ]
  }
 ],
 "metadata": {
  "anaconda-cloud": {},
  "kernelspec": {
   "display_name": "Python [default]",
   "language": "python",
   "name": "python3"
  },
  "language_info": {
   "codemirror_mode": {
    "name": "ipython",
    "version": 3
   },
   "file_extension": ".py",
   "mimetype": "text/x-python",
   "name": "python",
   "nbconvert_exporter": "python",
   "pygments_lexer": "ipython3",
   "version": "3.5.2"
  }
 },
 "nbformat": 4,
 "nbformat_minor": 1
}
